{
  "nbformat": 4,
  "nbformat_minor": 0,
  "metadata": {
    "colab": {
      "provenance": [],
      "gpuType": "T4",
      "authorship_tag": "ABX9TyPlUobigQJc7/MgNgtY8dMd",
      "include_colab_link": true
    },
    "kernelspec": {
      "name": "python3",
      "display_name": "Python 3"
    },
    "language_info": {
      "name": "python"
    },
    "accelerator": "GPU"
  },
  "cells": [
    {
      "cell_type": "markdown",
      "metadata": {
        "id": "view-in-github",
        "colab_type": "text"
      },
      "source": [
        "<a href=\"https://colab.research.google.com/github/Pawanme9034/Deep_learning/blob/main/dog___v__cat__image_classification_mode_in_deep_learning.ipynb\" target=\"_parent\"><img src=\"https://colab.research.google.com/assets/colab-badge.svg\" alt=\"Open In Colab\"/></a>"
      ]
    },
    {
      "cell_type": "code",
      "source": [
        "!mkdir -p ~/.kaggle\n",
        "!cp kaggle.json ~/.kaggle/"
      ],
      "metadata": {
        "id": "ZHaoe97MmGA2"
      },
      "execution_count": null,
      "outputs": []
    },
    {
      "cell_type": "markdown",
      "source": [
        "coyp the api command form kaggle  AND past it with ! mark.."
      ],
      "metadata": {
        "id": "dr1rcSOsmMAu"
      }
    },
    {
      "cell_type": "code",
      "execution_count": null,
      "metadata": {
        "id": "q-GsszjqkJ8R"
      },
      "outputs": [],
      "source": [
        "!kaggle datasets download -d salader/dogs-vs-cats"
      ]
    },
    {
      "cell_type": "markdown",
      "source": [
        "we got dog-vs-cats data in .zip file, to unzip it we use folling command"
      ],
      "metadata": {
        "id": "zreGroGdnBOo"
      }
    },
    {
      "cell_type": "code",
      "source": [
        "import zipfile\n",
        "zip_ref = zipfile.ZipFile('/content/dogs-vs-cats.zip', 'r')\n",
        "zip_ref.extractall('/content')\n",
        "zip_ref.close()"
      ],
      "metadata": {
        "id": "fAvxrg9om1Wq"
      },
      "execution_count": 1,
      "outputs": []
    },
    {
      "cell_type": "code",
      "source": [
        "import tensorflow as tf\n",
        "from tensorflow import keras\n",
        "from keras import Sequential\n",
        "from keras.layers import Dense,Conv2D,MaxPooling2D,Flatten,BatchNormalization,Dropout"
      ],
      "metadata": {
        "id": "Q2Khpj2lnWwN"
      },
      "execution_count": 2,
      "outputs": []
    },
    {
      "cell_type": "markdown",
      "source": [
        "generators_--\n",
        "\n",
        "genrators are usefull in working with larg size of data\n"
      ],
      "metadata": {
        "id": "Y7MAKMDtnuha"
      }
    },
    {
      "cell_type": "code",
      "source": [
        "# generators\n",
        "train_ds = keras.utils.image_dataset_from_directory(\n",
        "    directory = '/content/train',\n",
        "    labels='inferred',\n",
        "    label_mode = 'int',\n",
        "    batch_size=32,\n",
        "    image_size=(256,256)\n",
        ")\n",
        "\n",
        "validation_ds = keras.utils.image_dataset_from_directory(\n",
        "    directory = '/content/test',\n",
        "    labels='inferred',\n",
        "    label_mode = 'int',\n",
        "    batch_size=32,\n",
        "    image_size=(256,256)\n",
        ")"
      ],
      "metadata": {
        "colab": {
          "base_uri": "https://localhost:8080/"
        },
        "id": "niLfofmIptdT",
        "outputId": "bd860a12-ee74-47f9-dcde-1cadd3e03e0e"
      },
      "execution_count": 3,
      "outputs": [
        {
          "output_type": "stream",
          "name": "stdout",
          "text": [
            "Found 20000 files belonging to 2 classes.\n",
            "Found 5000 files belonging to 2 classes.\n"
          ]
        }
      ]
    },
    {
      "cell_type": "markdown",
      "source": [
        "normlize the numpy array\n",
        "normalization is required because of our data is in numpy array formate which have size of 0 to 255, we need to change it in between 0 to 1."
      ],
      "metadata": {
        "id": "hIyS_6pVp1dl"
      }
    },
    {
      "cell_type": "code",
      "source": [
        "# Normalize\n",
        "def process(image,label):\n",
        "    image = tf.cast(image/255. ,tf.float32)\n",
        "    return image,label\n",
        "\n",
        "train_ds = train_ds.map(process)\n",
        "validation_ds = validation_ds.map(process)"
      ],
      "metadata": {
        "id": "bUgmSchkp1If"
      },
      "execution_count": 4,
      "outputs": []
    },
    {
      "cell_type": "markdown",
      "source": [
        "CNN model_"
      ],
      "metadata": {
        "id": "mnWZmXV1q9_J"
      }
    },
    {
      "cell_type": "code",
      "source": [
        "# create CNN model\n",
        "\n",
        "model = Sequential()\n",
        "# first convinationl layer\n",
        "model.add(Conv2D(32,kernel_size=(3,3),padding='valid',activation='relu',input_shape=(256,256,3)))\n",
        "model.add(BatchNormalization())\n",
        "# polling layer\n",
        "model.add(MaxPooling2D(pool_size=(2,2),strides=2,padding='valid'))\n",
        "\n",
        "model.add(Conv2D(64,kernel_size=(3,3),padding='valid',activation='relu'))\n",
        "model.add(BatchNormalization())\n",
        "model.add(MaxPooling2D(pool_size=(2,2),strides=2,padding='valid'))\n",
        "\n",
        "model.add(Conv2D(128,kernel_size=(3,3),padding='valid',activation='relu'))\n",
        "model.add(BatchNormalization())\n",
        "model.add(MaxPooling2D(pool_size=(2,2),strides=2,padding='valid'))\n",
        "# flatten layer\n",
        "model.add(Flatten())\n",
        "\n",
        "model.add(Dense(128,activation='relu'))\n",
        "model.add(Dropout(0.1))\n",
        "model.add(Dense(64,activation='relu'))\n",
        "model.add(Dropout(0.1))\n",
        "model.add(Dense(1,activation='sigmoid'))"
      ],
      "metadata": {
        "id": "g8odLeYPpzEr"
      },
      "execution_count": 5,
      "outputs": []
    },
    {
      "cell_type": "code",
      "source": [
        "model.summary()"
      ],
      "metadata": {
        "colab": {
          "base_uri": "https://localhost:8080/"
        },
        "id": "csKAC0gQr-io",
        "outputId": "1e191b01-9656-4581-d42f-2447a245daf7"
      },
      "execution_count": 6,
      "outputs": [
        {
          "output_type": "stream",
          "name": "stdout",
          "text": [
            "Model: \"sequential\"\n",
            "_________________________________________________________________\n",
            " Layer (type)                Output Shape              Param #   \n",
            "=================================================================\n",
            " conv2d (Conv2D)             (None, 254, 254, 32)      896       \n",
            "                                                                 \n",
            " batch_normalization (Batch  (None, 254, 254, 32)      128       \n",
            " Normalization)                                                  \n",
            "                                                                 \n",
            " max_pooling2d (MaxPooling2  (None, 127, 127, 32)      0         \n",
            " D)                                                              \n",
            "                                                                 \n",
            " conv2d_1 (Conv2D)           (None, 125, 125, 64)      18496     \n",
            "                                                                 \n",
            " batch_normalization_1 (Bat  (None, 125, 125, 64)      256       \n",
            " chNormalization)                                                \n",
            "                                                                 \n",
            " max_pooling2d_1 (MaxPoolin  (None, 62, 62, 64)        0         \n",
            " g2D)                                                            \n",
            "                                                                 \n",
            " conv2d_2 (Conv2D)           (None, 60, 60, 128)       73856     \n",
            "                                                                 \n",
            " batch_normalization_2 (Bat  (None, 60, 60, 128)       512       \n",
            " chNormalization)                                                \n",
            "                                                                 \n",
            " max_pooling2d_2 (MaxPoolin  (None, 30, 30, 128)       0         \n",
            " g2D)                                                            \n",
            "                                                                 \n",
            " flatten (Flatten)           (None, 115200)            0         \n",
            "                                                                 \n",
            " dense (Dense)               (None, 128)               14745728  \n",
            "                                                                 \n",
            " dropout (Dropout)           (None, 128)               0         \n",
            "                                                                 \n",
            " dense_1 (Dense)             (None, 64)                8256      \n",
            "                                                                 \n",
            " dropout_1 (Dropout)         (None, 64)                0         \n",
            "                                                                 \n",
            " dense_2 (Dense)             (None, 1)                 65        \n",
            "                                                                 \n",
            "=================================================================\n",
            "Total params: 14848193 (56.64 MB)\n",
            "Trainable params: 14847745 (56.64 MB)\n",
            "Non-trainable params: 448 (1.75 KB)\n",
            "_________________________________________________________________\n"
          ]
        }
      ]
    },
    {
      "cell_type": "markdown",
      "source": [
        "compiling the model"
      ],
      "metadata": {
        "id": "-KrmSiOjsKUr"
      }
    },
    {
      "cell_type": "code",
      "source": [
        "model.compile(optimizer='adam',loss='binary_crossentropy',metrics=['accuracy'])"
      ],
      "metadata": {
        "id": "coj1j1N3sGft"
      },
      "execution_count": 7,
      "outputs": []
    },
    {
      "cell_type": "markdown",
      "source": [
        "training the model"
      ],
      "metadata": {
        "id": "mRSnSsRBsnOf"
      }
    },
    {
      "cell_type": "code",
      "source": [
        "history = model.fit(train_ds,epochs=10,validation_data=validation_ds)"
      ],
      "metadata": {
        "colab": {
          "base_uri": "https://localhost:8080/"
        },
        "id": "LnSuhLIrsa8e",
        "outputId": "690af9f0-df52-4064-9a6d-e6ac5a40de70"
      },
      "execution_count": 8,
      "outputs": [
        {
          "output_type": "stream",
          "name": "stdout",
          "text": [
            "Epoch 1/10\n",
            "625/625 [==============================] - 72s 101ms/step - loss: 1.3751 - accuracy: 0.6057 - val_loss: 0.6135 - val_accuracy: 0.6754\n",
            "Epoch 2/10\n",
            "625/625 [==============================] - 68s 108ms/step - loss: 0.5570 - accuracy: 0.7155 - val_loss: 0.5738 - val_accuracy: 0.7136\n",
            "Epoch 3/10\n",
            "625/625 [==============================] - 65s 103ms/step - loss: 0.4834 - accuracy: 0.7668 - val_loss: 0.4754 - val_accuracy: 0.7824\n",
            "Epoch 4/10\n",
            "625/625 [==============================] - 67s 106ms/step - loss: 0.4128 - accuracy: 0.8155 - val_loss: 0.5163 - val_accuracy: 0.7650\n",
            "Epoch 5/10\n",
            "625/625 [==============================] - 64s 101ms/step - loss: 0.3445 - accuracy: 0.8507 - val_loss: 0.4470 - val_accuracy: 0.7988\n",
            "Epoch 6/10\n",
            "625/625 [==============================] - 63s 101ms/step - loss: 0.2602 - accuracy: 0.8929 - val_loss: 0.4798 - val_accuracy: 0.8054\n",
            "Epoch 7/10\n",
            "625/625 [==============================] - 64s 102ms/step - loss: 0.1881 - accuracy: 0.9247 - val_loss: 0.6165 - val_accuracy: 0.8132\n",
            "Epoch 8/10\n",
            "625/625 [==============================] - 65s 103ms/step - loss: 0.1329 - accuracy: 0.9520 - val_loss: 1.3719 - val_accuracy: 0.6956\n",
            "Epoch 9/10\n",
            "625/625 [==============================] - 66s 106ms/step - loss: 0.0954 - accuracy: 0.9678 - val_loss: 0.6692 - val_accuracy: 0.8260\n",
            "Epoch 10/10\n",
            "625/625 [==============================] - 64s 101ms/step - loss: 0.0742 - accuracy: 0.9758 - val_loss: 0.7062 - val_accuracy: 0.7876\n"
          ]
        }
      ]
    },
    {
      "cell_type": "code",
      "source": [
        "import matplotlib.pyplot as plt\n",
        "import matplotlib.style as style\n",
        "style.use(\"dark_background\")\n",
        "plt.plot(history.history['accuracy'],color='red',label='train')\n",
        "plt.plot(history.history['val_accuracy'],color='blue',label='validation')\n",
        "plt.legend()\n",
        "plt.show()"
      ],
      "metadata": {
        "colab": {
          "base_uri": "https://localhost:8080/",
          "height": 430
        },
        "id": "8fNgjlVksbwt",
        "outputId": "e3fbb88b-9bdc-45ee-ea2d-1323d4096791"
      },
      "execution_count": 9,
      "outputs": [
        {
          "output_type": "display_data",
          "data": {
            "text/plain": [
              "<Figure size 640x480 with 1 Axes>"
            ],
            "image/png": "[encoded data removed]"
          },
          "metadata": {}
        }
      ]
    },
    {
      "cell_type": "code",
      "source": [
        "plt.plot(history.history['loss'],color='red',label='train')\n",
        "plt.plot(history.history['val_loss'],color='blue',label='validation')\n",
        "plt.legend()\n",
        "plt.show()"
      ],
      "metadata": {
        "colab": {
          "base_uri": "https://localhost:8080/",
          "height": 430
        },
        "id": "7Mnv5lrFvD92",
        "outputId": "615ee601-a631-40ad-c263-6ec52e7c227c"
      },
      "execution_count": 10,
      "outputs": [
        {
          "output_type": "display_data",
          "data": {
            "text/plain": [
              "<Figure size 640x480 with 1 Axes>"
            ],
            "image/png": "[encoded data removed]"
          },
          "metadata": {}
        }
      ]
    },
    {
      "cell_type": "markdown",
      "source": [
        "\n",
        "## Transfer learning\n",
        "\n"
      ],
      "metadata": {
        "id": "nqrmdkw7vnfQ"
      }
    },
    {
      "cell_type": "markdown",
      "source": [
        "transfer learning is the way were we use pretend modes"
      ],
      "metadata": {
        "id": "0W_CgNvBqGwB"
      }
    },
    {
      "cell_type": "code",
      "source": [
        "# hear we import vgg16 mode for image classfiction\n",
        "from keras.applications.vgg16 import VGG16"
      ],
      "metadata": {
        "id": "Sofs7oF1vl3P"
      },
      "execution_count": 13,
      "outputs": []
    },
    {
      "cell_type": "code",
      "source": [
        "conv_base = VGG16(\n",
        "    weights='imagenet',\n",
        "    include_top = False,\n",
        "    input_shape=(150,150,3)\n",
        ")"
      ],
      "metadata": {
        "id": "CHOSrtO3pd20",
        "outputId": "f7594753-043e-4958-f3a8-54acaa67795a",
        "colab": {
          "base_uri": "https://localhost:8080/"
        }
      },
      "execution_count": 14,
      "outputs": [
        {
          "output_type": "stream",
          "name": "stdout",
          "text": [
            "Downloading data from https://storage.googleapis.com/tensorflow/keras-applications/vgg16/vgg16_weights_tf_dim_ordering_tf_kernels_notop.h5\n",
            "58889256/58889256 [==============================] - 0s 0us/step\n"
          ]
        }
      ]
    },
    {
      "cell_type": "code",
      "source": [
        "conv_base.summary()"
      ],
      "metadata": {
        "id": "1tjeMlj0uAME",
        "outputId": "67ede499-1160-4be5-ec1c-3072dc94db08",
        "colab": {
          "base_uri": "https://localhost:8080/"
        }
      },
      "execution_count": 15,
      "outputs": [
        {
          "output_type": "stream",
          "name": "stdout",
          "text": [
            "Model: \"vgg16\"\n",
            "_________________________________________________________________\n",
            " Layer (type)                Output Shape              Param #   \n",
            "=================================================================\n",
            " input_1 (InputLayer)        [(None, 150, 150, 3)]     0         \n",
            "                                                                 \n",
            " block1_conv1 (Conv2D)       (None, 150, 150, 64)      1792      \n",
            "                                                                 \n",
            " block1_conv2 (Conv2D)       (None, 150, 150, 64)      36928     \n",
            "                                                                 \n",
            " block1_pool (MaxPooling2D)  (None, 75, 75, 64)        0         \n",
            "                                                                 \n",
            " block2_conv1 (Conv2D)       (None, 75, 75, 128)       73856     \n",
            "                                                                 \n",
            " block2_conv2 (Conv2D)       (None, 75, 75, 128)       147584    \n",
            "                                                                 \n",
            " block2_pool (MaxPooling2D)  (None, 37, 37, 128)       0         \n",
            "                                                                 \n",
            " block3_conv1 (Conv2D)       (None, 37, 37, 256)       295168    \n",
            "                                                                 \n",
            " block3_conv2 (Conv2D)       (None, 37, 37, 256)       590080    \n",
            "                                                                 \n",
            " block3_conv3 (Conv2D)       (None, 37, 37, 256)       590080    \n",
            "                                                                 \n",
            " block3_pool (MaxPooling2D)  (None, 18, 18, 256)       0         \n",
            "                                                                 \n",
            " block4_conv1 (Conv2D)       (None, 18, 18, 512)       1180160   \n",
            "                                                                 \n",
            " block4_conv2 (Conv2D)       (None, 18, 18, 512)       2359808   \n",
            "                                                                 \n",
            " block4_conv3 (Conv2D)       (None, 18, 18, 512)       2359808   \n",
            "                                                                 \n",
            " block4_pool (MaxPooling2D)  (None, 9, 9, 512)         0         \n",
            "                                                                 \n",
            " block5_conv1 (Conv2D)       (None, 9, 9, 512)         2359808   \n",
            "                                                                 \n",
            " block5_conv2 (Conv2D)       (None, 9, 9, 512)         2359808   \n",
            "                                                                 \n",
            " block5_conv3 (Conv2D)       (None, 9, 9, 512)         2359808   \n",
            "                                                                 \n",
            " block5_pool (MaxPooling2D)  (None, 4, 4, 512)         0         \n",
            "                                                                 \n",
            "=================================================================\n",
            "Total params: 14714688 (56.13 MB)\n",
            "Trainable params: 14714688 (56.13 MB)\n",
            "Non-trainable params: 0 (0.00 Byte)\n",
            "_________________________________________________________________\n"
          ]
        }
      ]
    },
    {
      "cell_type": "code",
      "source": [
        "model_1= Sequential()\n",
        "\n",
        "model_1.add(conv_base)\n",
        "model_1.add(Flatten())\n",
        "model_1.add(Dense(256,activation='relu'))\n",
        "model_1.add(Dense(1,activation='sigmoid'))"
      ],
      "metadata": {
        "id": "lzUOCXcht_6Y"
      },
      "execution_count": 16,
      "outputs": []
    },
    {
      "cell_type": "code",
      "source": [
        "model_1.summary()"
      ],
      "metadata": {
        "id": "7aW-2AyVudyn",
        "outputId": "483227d8-c70e-44df-ba4a-23441c6fcfb0",
        "colab": {
          "base_uri": "https://localhost:8080/"
        }
      },
      "execution_count": 17,
      "outputs": [
        {
          "output_type": "stream",
          "name": "stdout",
          "text": [
            "Model: \"sequential_1\"\n",
            "_________________________________________________________________\n",
            " Layer (type)                Output Shape              Param #   \n",
            "=================================================================\n",
            " vgg16 (Functional)          (None, 4, 4, 512)         14714688  \n",
            "                                                                 \n",
            " flatten_1 (Flatten)         (None, 8192)              0         \n",
            "                                                                 \n",
            " dense_3 (Dense)             (None, 256)               2097408   \n",
            "                                                                 \n",
            " dense_4 (Dense)             (None, 1)                 257       \n",
            "                                                                 \n",
            "=================================================================\n",
            "Total params: 16812353 (64.13 MB)\n",
            "Trainable params: 16812353 (64.13 MB)\n",
            "Non-trainable params: 0 (0.00 Byte)\n",
            "_________________________________________________________________\n"
          ]
        }
      ]
    },
    {
      "cell_type": "code",
      "source": [
        "conv_base.trainable = False"
      ],
      "metadata": {
        "id": "fhBiKzuEuhLy"
      },
      "execution_count": 18,
      "outputs": []
    },
    {
      "cell_type": "code",
      "source": [
        "model_1.summary()"
      ],
      "metadata": {
        "id": "sQGvSLRKvFrZ",
        "outputId": "9abc9916-61aa-4ff6-f5d0-c403a2e45dd2",
        "colab": {
          "base_uri": "https://localhost:8080/"
        }
      },
      "execution_count": 19,
      "outputs": [
        {
          "output_type": "stream",
          "name": "stdout",
          "text": [
            "Model: \"sequential_1\"\n",
            "_________________________________________________________________\n",
            " Layer (type)                Output Shape              Param #   \n",
            "=================================================================\n",
            " vgg16 (Functional)          (None, 4, 4, 512)         14714688  \n",
            "                                                                 \n",
            " flatten_1 (Flatten)         (None, 8192)              0         \n",
            "                                                                 \n",
            " dense_3 (Dense)             (None, 256)               2097408   \n",
            "                                                                 \n",
            " dense_4 (Dense)             (None, 1)                 257       \n",
            "                                                                 \n",
            "=================================================================\n",
            "Total params: 16812353 (64.13 MB)\n",
            "Trainable params: 2097665 (8.00 MB)\n",
            "Non-trainable params: 14714688 (56.13 MB)\n",
            "_________________________________________________________________\n"
          ]
        }
      ]
    },
    {
      "cell_type": "code",
      "source": [
        "# generators\n",
        "train_ds = keras.utils.image_dataset_from_directory(\n",
        "    directory = '/content/train',\n",
        "    labels='inferred',\n",
        "    label_mode = 'int',\n",
        "    batch_size=32,\n",
        "    image_size=(150,150)\n",
        ")\n",
        "\n",
        "validation_ds = keras.utils.image_dataset_from_directory(\n",
        "    directory = '/content/test',\n",
        "    labels='inferred',\n",
        "    label_mode = 'int',\n",
        "    batch_size=32,\n",
        "    image_size=(150,150)\n",
        ")"
      ],
      "metadata": {
        "id": "h7sZA_19wGhG",
        "outputId": "aa413a96-4bdf-4812-d52a-8fc3e79ed156",
        "colab": {
          "base_uri": "https://localhost:8080/"
        }
      },
      "execution_count": 20,
      "outputs": [
        {
          "output_type": "stream",
          "name": "stdout",
          "text": [
            "Found 20000 files belonging to 2 classes.\n",
            "Found 5000 files belonging to 2 classes.\n"
          ]
        }
      ]
    },
    {
      "cell_type": "code",
      "source": [
        "# Normalize\n",
        "def process(image,label):\n",
        "    image = tf.cast(image/255. ,tf.float32)\n",
        "    return image,label\n",
        "\n",
        "train_ds = train_ds.map(process)\n",
        "validation_ds = validation_ds.map(process)"
      ],
      "metadata": {
        "id": "zYOXxYIKwKoK"
      },
      "execution_count": 22,
      "outputs": []
    },
    {
      "cell_type": "code",
      "source": [
        "model_1.compile(optimizer='adam',loss='binary_crossentropy',metrics=['accuracy'])"
      ],
      "metadata": {
        "id": "4E-PTP5AzIyP"
      },
      "execution_count": 23,
      "outputs": []
    },
    {
      "cell_type": "code",
      "source": [
        "history = model_1.fit(train_ds,epochs=10,validation_data=validation_ds)"
      ],
      "metadata": {
        "id": "PqSEblGrzKz2",
        "outputId": "04c50cce-f7e6-4091-d496-1ea9f45d5947",
        "colab": {
          "base_uri": "https://localhost:8080/"
        }
      },
      "execution_count": 24,
      "outputs": [
        {
          "output_type": "stream",
          "name": "stdout",
          "text": [
            "Epoch 1/10\n",
            "625/625 [==============================] - 60s 86ms/step - loss: 0.2824 - accuracy: 0.8813 - val_loss: 0.2293 - val_accuracy: 0.9022\n",
            "Epoch 2/10\n",
            "625/625 [==============================] - 53s 85ms/step - loss: 0.1969 - accuracy: 0.9201 - val_loss: 0.2150 - val_accuracy: 0.9102\n",
            "Epoch 3/10\n",
            "625/625 [==============================] - 53s 84ms/step - loss: 0.1619 - accuracy: 0.9344 - val_loss: 0.2068 - val_accuracy: 0.9130\n",
            "Epoch 4/10\n",
            "625/625 [==============================] - 53s 84ms/step - loss: 0.1386 - accuracy: 0.9426 - val_loss: 0.2238 - val_accuracy: 0.9092\n",
            "Epoch 5/10\n",
            "625/625 [==============================] - 63s 100ms/step - loss: 0.1135 - accuracy: 0.9574 - val_loss: 0.2419 - val_accuracy: 0.9062\n",
            "Epoch 6/10\n",
            "625/625 [==============================] - 63s 100ms/step - loss: 0.0907 - accuracy: 0.9648 - val_loss: 0.2513 - val_accuracy: 0.9104\n",
            "Epoch 7/10\n",
            "625/625 [==============================] - 63s 100ms/step - loss: 0.0689 - accuracy: 0.9757 - val_loss: 0.2765 - val_accuracy: 0.9108\n",
            "Epoch 8/10\n",
            "625/625 [==============================] - 52s 83ms/step - loss: 0.0522 - accuracy: 0.9800 - val_loss: 0.3395 - val_accuracy: 0.9018\n",
            "Epoch 9/10\n",
            "625/625 [==============================] - 54s 86ms/step - loss: 0.0435 - accuracy: 0.9840 - val_loss: 0.3239 - val_accuracy: 0.9078\n",
            "Epoch 10/10\n",
            "625/625 [==============================] - 53s 84ms/step - loss: 0.0357 - accuracy: 0.9871 - val_loss: 0.3419 - val_accuracy: 0.9078\n"
          ]
        }
      ]
    },
    {
      "cell_type": "code",
      "source": [
        "plt.plot(history.history['accuracy'],color='red',label='train')\n",
        "plt.plot(history.history['val_accuracy'],color='blue',label='validation')\n",
        "plt.legend()\n",
        "plt.show()"
      ],
      "metadata": {
        "id": "cNeLgJx5zQKI",
        "outputId": "68158b12-1330-42a6-a988-0d5986dc390a",
        "colab": {
          "base_uri": "https://localhost:8080/",
          "height": 430
        }
      },
      "execution_count": 25,
      "outputs": [
        {
          "output_type": "display_data",
          "data": {
            "text/plain": [
              "<Figure size 640x480 with 1 Axes>"
            ],
            "image/png": "[encoded data removed]"
          },
          "metadata": {}
        }
      ]
    },
    {
      "cell_type": "markdown",
      "source": [
        "we can see hear overfitting"
      ],
      "metadata": {
        "id": "0SVBTOb41sUv"
      }
    },
    {
      "cell_type": "code",
      "source": [
        "plt.plot(history.history['loss'],color='red',label='train')\n",
        "plt.plot(history.history['val_loss'],color='blue',label='validation')\n",
        "plt.legend()\n",
        "plt.show()"
      ],
      "metadata": {
        "id": "juxDluUizht0",
        "outputId": "36561d0d-6b98-407f-85a4-1d7b675a5195",
        "colab": {
          "base_uri": "https://localhost:8080/",
          "height": 430
        }
      },
      "execution_count": 38,
      "outputs": [
        {
          "output_type": "display_data",
          "data": {
            "text/plain": [
              "<Figure size 640x480 with 1 Axes>"
            ],
            "image/png": "[encoded data removed]"
          },
          "metadata": {}
        }
      ]
    },
    {
      "cell_type": "markdown",
      "source": [
        "so redusideing overfitting we tryout feature-extraction(data-augmentation)"
      ],
      "metadata": {
        "id": "5AElvqVN12UM"
      }
    },
    {
      "cell_type": "markdown",
      "source": [
        "### feature-extraction(data-augmentation)"
      ],
      "metadata": {
        "id": "xK87qrCw2I3G"
      }
    },
    {
      "cell_type": "code",
      "source": [
        "from keras.preprocessing.image import ImageDataGenerator, array_to_img, img_to_array, load_img"
      ],
      "metadata": {
        "id": "XjZ0icmi2Hon"
      },
      "execution_count": 27,
      "outputs": []
    },
    {
      "cell_type": "code",
      "source": [
        "batch_size = 32\n",
        "\n",
        "train_datagen = ImageDataGenerator(\n",
        "        rescale=1./255,\n",
        "        shear_range=0.2,\n",
        "        zoom_range=0.2,\n",
        "        horizontal_flip=True)\n",
        "\n",
        "test_datagen = ImageDataGenerator(rescale=1./255)\n",
        "\n",
        "train_generator = train_datagen.flow_from_directory(\n",
        "        '/content/train',\n",
        "        target_size=(150, 150),\n",
        "        batch_size=batch_size,\n",
        "        class_mode='binary')\n",
        "\n",
        "validation_generator = test_datagen.flow_from_directory(\n",
        "        '/content/test',\n",
        "        target_size=(150, 150),\n",
        "        batch_size=batch_size,\n",
        "        class_mode='binary')"
      ],
      "metadata": {
        "id": "I0-LAlcv2UxU"
      },
      "execution_count": null,
      "outputs": []
    },
    {
      "cell_type": "code",
      "source": [
        "history = model_1.fit_generator(\n",
        "        train_generator,\n",
        "        epochs=10,\n",
        "        validation_data=validation_generator)"
      ],
      "metadata": {
        "id": "Zooczj8e2ZOI",
        "outputId": "320614f2-cfec-4bbb-ad59-fd6489bafd79",
        "colab": {
          "base_uri": "https://localhost:8080/"
        }
      },
      "execution_count": 31,
      "outputs": [
        {
          "output_type": "stream",
          "name": "stderr",
          "text": [
            "<ipython-input-31-8ba99ee48d76>:1: UserWarning: `Model.fit_generator` is deprecated and will be removed in a future version. Please use `Model.fit`, which supports generators.\n",
            "  history = model_1.fit_generator(\n"
          ]
        },
        {
          "output_type": "stream",
          "name": "stdout",
          "text": [
            "Epoch 1/10\n",
            "625/625 [==============================] - 147s 236ms/step - loss: 0.1648 - accuracy: 0.9293 - val_loss: 0.2216 - val_accuracy: 0.9160\n",
            "Epoch 2/10\n",
            "625/625 [==============================] - 153s 245ms/step - loss: 0.1507 - accuracy: 0.9383 - val_loss: 0.2163 - val_accuracy: 0.9162\n",
            "Epoch 3/10\n",
            "625/625 [==============================] - 147s 235ms/step - loss: 0.1450 - accuracy: 0.9395 - val_loss: 0.2132 - val_accuracy: 0.9148\n",
            "Epoch 4/10\n",
            "625/625 [==============================] - 151s 241ms/step - loss: 0.1355 - accuracy: 0.9444 - val_loss: 0.2303 - val_accuracy: 0.9128\n",
            "Epoch 5/10\n",
            "625/625 [==============================] - 149s 238ms/step - loss: 0.1282 - accuracy: 0.9493 - val_loss: 0.2106 - val_accuracy: 0.9210\n",
            "Epoch 6/10\n",
            "625/625 [==============================] - 149s 239ms/step - loss: 0.1233 - accuracy: 0.9495 - val_loss: 0.3097 - val_accuracy: 0.8926\n",
            "Epoch 7/10\n",
            "625/625 [==============================] - 147s 235ms/step - loss: 0.1191 - accuracy: 0.9508 - val_loss: 0.2276 - val_accuracy: 0.9146\n",
            "Epoch 8/10\n",
            "625/625 [==============================] - 148s 237ms/step - loss: 0.1106 - accuracy: 0.9554 - val_loss: 0.2183 - val_accuracy: 0.9156\n",
            "Epoch 9/10\n",
            "625/625 [==============================] - 146s 234ms/step - loss: 0.1076 - accuracy: 0.9568 - val_loss: 0.2344 - val_accuracy: 0.9188\n",
            "Epoch 10/10\n",
            "625/625 [==============================] - 147s 234ms/step - loss: 0.1054 - accuracy: 0.9579 - val_loss: 0.2302 - val_accuracy: 0.9164\n"
          ]
        }
      ]
    },
    {
      "cell_type": "code",
      "source": [
        "plt.plot(history.history['loss'],color='red',label='train')\n",
        "plt.plot(history.history['val_loss'],color='blue',label='validation')\n",
        "plt.legend()\n",
        "plt.show()"
      ],
      "metadata": {
        "id": "IXftIuCH2hR9",
        "outputId": "cffd9f12-5e29-4065-9f38-1824dc636b52",
        "colab": {
          "base_uri": "https://localhost:8080/",
          "height": 430
        }
      },
      "execution_count": 37,
      "outputs": [
        {
          "output_type": "display_data",
          "data": {
            "text/plain": [
              "<Figure size 640x480 with 1 Axes>"
            ],
            "image/png": "[encoded data removed]"
          },
          "metadata": {}
        }
      ]
    }
  ]
}